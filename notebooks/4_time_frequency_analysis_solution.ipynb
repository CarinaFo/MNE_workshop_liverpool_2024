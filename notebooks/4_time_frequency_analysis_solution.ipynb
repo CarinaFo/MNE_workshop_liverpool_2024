{
 "cells": [
  {
   "cell_type": "markdown",
   "metadata": {},
   "source": [
    "# Time-frequency analysis of EEG signals\n",
    "\n",
    "author: Carina Forster\n",
    "\n",
    "contact: forster@cbs.mpg.de\n",
    "\n",
    "last updated 01.07.2024\n",
    "\n",
    "Aim: what is the spectral content of the data?"
   ]
  },
  {
   "cell_type": "code",
   "execution_count": 1,
   "metadata": {},
   "outputs": [],
   "source": [
    "import mne\n",
    "import numpy as np\n",
    "from pathlib import Path\n",
    "import matplotlib.pyplot as plt"
   ]
  },
  {
   "cell_type": "code",
   "execution_count": 2,
   "metadata": {},
   "outputs": [],
   "source": [
    "%matplotlib qt"
   ]
  },
  {
   "cell_type": "code",
   "execution_count": 5,
   "metadata": {},
   "outputs": [
    {
     "name": "stdout",
     "output_type": "stream",
     "text": [
      "Reading C:\\Users\\Carina\\Desktop\\data_liverpool\\liverpool_fpz_reference-epo.fif ...\n",
      "    Found the data of interest:\n",
      "        t =       0.00 ...    3000.00 ms\n",
      "        0 CTF compensation matrices available\n",
      "Not setting metadata\n",
      "188 matching events found\n",
      "No baseline correction applied\n",
      "0 projection items activated\n",
      "Not setting metadata\n",
      "188 matching events found\n",
      "No baseline correction applied\n"
     ]
    },
    {
     "data": {
      "text/html": [
       "<details open>\n",
       "    <summary><strong>General</strong></summary>\n",
       "    <table class=\"table table-hover table-striped table-sm table-responsive small\">\n",
       "        <tr>\n",
       "            <th>Measurement date</th>\n",
       "            \n",
       "            <td>June 13, 2024  14:42:10 GMT</td>\n",
       "            \n",
       "        </tr>\n",
       "        <tr>\n",
       "            <th>Experimenter</th>\n",
       "            \n",
       "            <td>Unknown</td>\n",
       "            \n",
       "        </tr>\n",
       "        <tr>\n",
       "            <th>Participant</th>\n",
       "            \n",
       "            \n",
       "            \n",
       "        </tr>\n",
       "    </table>\n",
       "    </details>\n",
       "    <details open>\n",
       "        <summary><strong>Channels</strong></summary>\n",
       "        <table class=\"table table-hover table-striped table-sm table-responsive small\">\n",
       "            <tr>\n",
       "                <th>Digitized points</th>\n",
       "                \n",
       "                <td>67 points</td>\n",
       "                \n",
       "            </tr>\n",
       "            <tr>\n",
       "                <th>Good channels</th>\n",
       "                <td>64 EEG, 2 EOG, 2 ECG, 1 Stimulus</td>\n",
       "            </tr>\n",
       "            <tr>\n",
       "                <th>Bad channels</th>\n",
       "                <td>None</td>\n",
       "            </tr>\n",
       "            <tr>\n",
       "                <th>EOG channels</th>\n",
       "                <td>EXG1, EXG2</td>\n",
       "            </tr>\n",
       "            <tr>\n",
       "                <th>ECG channels</th>\n",
       "                <td>EXG3, EXG4</td>\n",
       "            </tr>\n",
       "        </table>\n",
       "        </details>\n",
       "        <details open>\n",
       "            <summary><strong>Data</strong></summary>\n",
       "            <table class=\"table table-hover table-striped table-sm table-responsive small\">\n",
       "                \n",
       "                <tr>\n",
       "                    <th>Sampling frequency</th>\n",
       "                    <td>512.00 Hz</td>\n",
       "                </tr>\n",
       "                \n",
       "                \n",
       "                <tr>\n",
       "                    <th>Highpass</th>\n",
       "                    <td>0.10 Hz</td>\n",
       "                </tr>\n",
       "                \n",
       "                \n",
       "                <tr>\n",
       "                    <th>Lowpass</th>\n",
       "                    <td>30.00 Hz</td>\n",
       "                </tr>\n",
       "                \n",
       "                \n",
       "                \n",
       "                \n",
       "            </table>\n",
       "            </details>"
      ],
      "text/plain": [
       "<Info | 11 non-empty values\n",
       " bads: []\n",
       " ch_names: Fp1, AF7, AF3, F1, F3, F5, F7, FT7, FC5, FC3, FC1, C1, C3, C5, ...\n",
       " chs: 64 EEG, 2 EOG, 2 ECG, 1 Stimulus\n",
       " custom_ref_applied: True\n",
       " dig: 67 items (3 Cardinal, 64 EEG)\n",
       " file_id: 4 items (dict)\n",
       " highpass: 0.1 Hz\n",
       " lowpass: 30.0 Hz\n",
       " meas_date: 2024-06-13 14:42:10 UTC\n",
       " meas_id: 4 items (dict)\n",
       " nchan: 69\n",
       " projs: []\n",
       " sfreq: 512.0 Hz\n",
       ">"
      ]
     },
     "execution_count": 5,
     "metadata": {},
     "output_type": "execute_result"
    }
   ],
   "source": [
    "# load liverpool data (preprocessed)\n",
    "epochs = mne.read_epochs(Path(data_dir, 'liverpool_fpz_reference-epo.fif'))\n",
    "\n",
    "# concatenate epochs back to raw\n",
    "raw = mne.concatenate_epochs([epochs])\n",
    "raw.info"
   ]
  },
  {
   "cell_type": "markdown",
   "metadata": {},
   "source": [
    "Let's look at power"
   ]
  },
  {
   "cell_type": "code",
   "execution_count": 6,
   "metadata": {},
   "outputs": [
    {
     "name": "stdout",
     "output_type": "stream",
     "text": [
      "    Using multitaper spectrum estimation with 7 DPSS windows\n",
      "    Using multitaper spectrum estimation with 7 DPSS windows\n"
     ]
    }
   ],
   "source": [
    "# why do we drop Fcz?\n",
    "spectrum_epochs = epochs.drop_channels(['Fpz']).compute_psd(fmin=2, fmax=40)\n",
    "spectrum_raw = raw.drop_channels(['Fpz']).compute_psd(fmin=2, fmax=40)"
   ]
  },
  {
   "cell_type": "code",
   "execution_count": 7,
   "metadata": {},
   "outputs": [
    {
     "data": {
      "text/plain": [
       "114"
      ]
     },
     "execution_count": 7,
     "metadata": {},
     "output_type": "execute_result"
    }
   ],
   "source": [
    "len(spectrum_raw.freqs)"
   ]
  },
  {
   "cell_type": "code",
   "execution_count": 8,
   "metadata": {},
   "outputs": [
    {
     "name": "stdout",
     "output_type": "stream",
     "text": [
      "Plotting power spectral density (dB=True).\n"
     ]
    },
    {
     "name": "stdout",
     "output_type": "stream",
     "text": [
      "Averaging across epochs...\n"
     ]
    },
    {
     "name": "stderr",
     "output_type": "stream",
     "text": [
      "C:\\Users\\Carina\\AppData\\Local\\Temp\\ipykernel_3100\\1468739425.py:1: FutureWarning: The value of `amplitude='auto'` will be removed in MNE 1.8.0, and the new default will be `amplitude=False`.\n",
      "  spectrum_epochs.plot(dB=True);\n"
     ]
    }
   ],
   "source": [
    "spectrum_epochs.plot(dB=True);"
   ]
  },
  {
   "cell_type": "code",
   "execution_count": 9,
   "metadata": {},
   "outputs": [
    {
     "name": "stdout",
     "output_type": "stream",
     "text": [
      "Plotting amplitude spectral density (dB=False).\n",
      "Averaging across epochs...\n"
     ]
    },
    {
     "name": "stderr",
     "output_type": "stream",
     "text": [
      "C:\\Users\\Carina\\AppData\\Local\\Temp\\ipykernel_3100\\3531536814.py:1: FutureWarning: The value of `amplitude='auto'` will be removed in MNE 1.8.0, and the new default will be `amplitude=False`.\n",
      "  spectrum_epochs.plot(dB=False);\n"
     ]
    }
   ],
   "source": [
    "spectrum_epochs.plot(dB=False);"
   ]
  },
  {
   "cell_type": "code",
   "execution_count": 11,
   "metadata": {},
   "outputs": [],
   "source": [
    "spectrum_epochs.plot_topomap(ch_type='eeg', normalize=True, dB=True);"
   ]
  },
  {
   "cell_type": "markdown",
   "metadata": {},
   "source": [
    "<div class=\"alert alert-block alert-success\">\n",
    "<b>Exercise:</b> \n",
    "\n",
    "Determine the individual peaks from the PSD\n",
    "\n",
    "</div>"
   ]
  },
  {
   "cell_type": "code",
   "execution_count": 19,
   "metadata": {},
   "outputs": [],
   "source": [
    "spectrum = spectrum_epochs\n",
    "\n",
    "import scipy\n",
    "import numpy as np\n",
    "\n",
    "spectrum._data.shape\n",
    "\n",
    "# so we average over channels and epochs\n",
    "spectrum_avg = np.mean(spectrum._data, axis=(0,1))\n",
    "\n",
    "vis_index = epochs.ch_names.index('O2')\n",
    "\n",
    "# let's pick channel O2\n",
    "spectrum_vis = np.mean(spectrum._data[:, vis_index, :], axis=0)\n",
    "\n",
    "peak = scipy.signal.find_peaks(spectrum_avg)\n",
    "peak_vis = scipy.signal.find_peaks(spectrum_vis)"
   ]
  },
  {
   "cell_type": "code",
   "execution_count": 20,
   "metadata": {},
   "outputs": [
    {
     "name": "stdout",
     "output_type": "stream",
     "text": [
      "6.662329212752115\n",
      "14.324007807417047\n",
      "22.318802862719586\n",
      "24.31750162654522\n",
      "26.982433311646066\n",
      "28.31489915419649\n",
      "6.662329212752115\n",
      "14.657124268054654\n",
      "22.318802862719586\n",
      "26.982433311646066\n",
      "27.648666232921276\n",
      "28.9811320754717\n"
     ]
    }
   ],
   "source": [
    "# where are the peaks?\n",
    "for p in peak[0]:\n",
    "    print(spectrum.freqs[p])\n",
    "\n",
    "for p in peak_vis[0]:\n",
    "    print(spectrum.freqs[p])"
   ]
  },
  {
   "cell_type": "code",
   "execution_count": 23,
   "metadata": {},
   "outputs": [],
   "source": [
    "# plot the spectrum with the peaks highlighted\n",
    "plt.plot(spectrum.freqs, spectrum_avg)\n",
    "for p in peak[0]:\n",
    "    plt.plot(spectrum.freqs[p], spectrum_avg[p], 'ro')\n",
    "plt.xlabel('Frequency (Hz)')\n",
    "plt.ylabel('Power Spectral Density (dB)')\n",
    "plt.show()"
   ]
  },
  {
   "cell_type": "code",
   "execution_count": 22,
   "metadata": {},
   "outputs": [],
   "source": [
    "# plot the spectrum with the peaks highlighted for the visual channel\n",
    "plt.plot(spectrum.freqs, spectrum_vis)\n",
    "for p in peak_vis[0]:\n",
    "    plt.plot(spectrum.freqs[p], spectrum_vis[p], 'ro')\n",
    "plt.xlabel('Frequency (Hz)')\n",
    "plt.ylabel('Power Spectral Density (dB)')\n",
    "plt.show()"
   ]
  },
  {
   "cell_type": "markdown",
   "metadata": {},
   "source": [
    "Bonus:\n",
    "\n",
    "load the resting state data and determine individual alpha peak frequency\n",
    "\n",
    "check out:\n",
    "\n",
    "https://mne.discourse.group/t/individual-alpha-frequency/1500/2"
   ]
  },
  {
   "cell_type": "markdown",
   "metadata": {},
   "source": [
    "## But what about time? "
   ]
  },
  {
   "cell_type": "code",
   "execution_count": 37,
   "metadata": {},
   "outputs": [
    {
     "name": "stdout",
     "output_type": "stream",
     "text": [
      "Reading C:\\Users\\Carina\\Desktop\\data_liverpool\\average_ref-epo.fif ...\n",
      "    Found the data of interest:\n",
      "        t =   -1000.64 ...    1000.64 ms\n",
      "        0 CTF compensation matrices available\n",
      "Not setting metadata\n",
      "320 matching events found\n",
      "No baseline correction applied\n",
      "0 projection items activated\n"
     ]
    }
   ],
   "source": [
    "# load the clean epochs\n",
    "data_dir = Path(\"C:/\", \"Users\", \"Carina\", \"Desktop\", \"data_liverpool\")\n",
    "epochs = mne.read_epochs(Path(data_dir, 'average_ref-epo.fif'))"
   ]
  },
  {
   "cell_type": "markdown",
   "metadata": {},
   "source": [
    "Let's extract only epochs that contained a visual stimulus"
   ]
  },
  {
   "cell_type": "code",
   "execution_count": 50,
   "metadata": {},
   "outputs": [
    {
     "data": {
      "text/html": [
       "<table class=\"table table-hover table-striped table-sm table-responsive small\">\n",
       "    <tr>\n",
       "        <th>Number of events</th>\n",
       "        <td>144</td>\n",
       "    </tr>\n",
       "    <tr>\n",
       "        <th>Events</th>\n",
       "        \n",
       "        <td>LV: 73<br/>RV: 71</td>\n",
       "        \n",
       "    </tr>\n",
       "    <tr>\n",
       "        <th>Time range</th>\n",
       "        <td>-1.001 – 1.001 s</td>\n",
       "    </tr>\n",
       "    <tr>\n",
       "        <th>Baseline</th>\n",
       "        <td>-1.001 – 1.001 s</td>\n",
       "    </tr>\n",
       "</table>"
      ],
      "text/plain": [
       "<EpochsFIF |  144 events (all good), -1.00064 – 1.00064 s, baseline -1.00064 – 1.00064 s, ~94.2 MB, data loaded,\n",
       " 'LV': 73\n",
       " 'RV': 71>"
      ]
     },
     "execution_count": 50,
     "metadata": {},
     "output_type": "execute_result"
    }
   ],
   "source": [
    "visual_epochs = epochs['LV', 'RV']\n",
    "visual_epochs"
   ]
  },
  {
   "cell_type": "code",
   "execution_count": 51,
   "metadata": {},
   "outputs": [
    {
     "name": "stderr",
     "output_type": "stream",
     "text": [
      "[Parallel(n_jobs=1)]: Done  17 tasks      | elapsed:    2.0s\n"
     ]
    }
   ],
   "source": [
    "freqs = np.logspace(*np.log10([6, 35]), num=16) # frequency resolution\n",
    "n_cycles = freqs / 4.0  # different number of cycle per frequency\n",
    "\n",
    "\n",
    "power, itc = visual_epochs.compute_tfr(\n",
    "    method=\"morlet\",\n",
    "    freqs=freqs,\n",
    "    n_cycles=n_cycles,\n",
    "    average=True,\n",
    "    return_itc=True,\n",
    "    decim=3,\n",
    ")"
   ]
  },
  {
   "cell_type": "code",
   "execution_count": 52,
   "metadata": {},
   "outputs": [
    {
     "data": {
      "text/plain": [
       "array([ 6.        ,  6.74857953,  7.59055427,  8.53757652,  9.60275235,\n",
       "       10.80082298, 12.14836881, 13.66403883, 15.36880878, 17.28627138,\n",
       "       19.44296285, 21.86873017, 24.59714411, 27.66596385, 31.11765953,\n",
       "       35.        ])"
      ]
     },
     "execution_count": 52,
     "metadata": {},
     "output_type": "execute_result"
    }
   ],
   "source": [
    "freqs"
   ]
  },
  {
   "cell_type": "code",
   "execution_count": 53,
   "metadata": {},
   "outputs": [
    {
     "data": {
      "text/plain": [
       "array([1.5       , 1.68714488, 1.89763857, 2.13439413, 2.40068809,\n",
       "       2.70020575, 3.0370922 , 3.41600971, 3.8422022 , 4.32156784,\n",
       "       4.86074071, 5.46718254, 6.14928603, 6.91649096, 7.77941488,\n",
       "       8.75      ])"
      ]
     },
     "execution_count": 53,
     "metadata": {},
     "output_type": "execute_result"
    }
   ],
   "source": [
    "n_cycles"
   ]
  },
  {
   "cell_type": "code",
   "execution_count": 68,
   "metadata": {},
   "outputs": [],
   "source": [
    "# let's pick a visual channel\n",
    "channel = ['EEG 058']"
   ]
  },
  {
   "cell_type": "code",
   "execution_count": 70,
   "metadata": {},
   "outputs": [
    {
     "name": "stdout",
     "output_type": "stream",
     "text": [
      "No baseline correction applied\n"
     ]
    },
    {
     "data": {
      "text/plain": [
       "[<Figure size 640x480 with 2 Axes>]"
      ]
     },
     "execution_count": 70,
     "metadata": {},
     "output_type": "execute_result"
    }
   ],
   "source": [
    "power.copy().crop(-0.5,0.5).plot(picks=channel, title=f'Power in channel {channel[0]}', mode=\"mean\")"
   ]
  },
  {
   "cell_type": "code",
   "execution_count": 78,
   "metadata": {},
   "outputs": [
    {
     "name": "stdout",
     "output_type": "stream",
     "text": [
      "Applying baseline correction (mode: percent)\n"
     ]
    },
    {
     "data": {
      "text/plain": [
       "[<Figure size 640x480 with 2 Axes>]"
      ]
     },
     "execution_count": 78,
     "metadata": {},
     "output_type": "execute_result"
    }
   ],
   "source": [
    "power.copy().crop(-0.5, 0.5).plot(picks=channel, title=f'Power in channel {channel[0]}', baseline=(-0.5, 0), mode=\"percent\")"
   ]
  },
  {
   "cell_type": "code",
   "execution_count": 77,
   "metadata": {},
   "outputs": [
    {
     "name": "stdout",
     "output_type": "stream",
     "text": [
      "Applying baseline correction (mode: zscore)\n"
     ]
    },
    {
     "data": {
      "text/plain": [
       "[<Figure size 640x480 with 2 Axes>]"
      ]
     },
     "execution_count": 77,
     "metadata": {},
     "output_type": "execute_result"
    }
   ],
   "source": [
    "power.copy().crop(-0.5, 0.5).plot(picks=channel, title=f'Power in channel {channel[0]}', baseline=(-0.5, 0), mode=\"zscore\")"
   ]
  },
  {
   "cell_type": "code",
   "execution_count": 80,
   "metadata": {},
   "outputs": [
    {
     "name": "stdout",
     "output_type": "stream",
     "text": [
      "No baseline correction applied\n",
      "No baseline correction applied\n"
     ]
    }
   ],
   "source": [
    "fig, axes = plt.subplots(1, 2, figsize=(7, 4), layout=\"constrained\")\n",
    "topomap_kw = dict(\n",
    "    ch_type=\"eeg\", show=False\n",
    ")\n",
    "plot_dict = dict(Alpha=dict(fmin=8, fmax=12), Beta=dict(fmin=13, fmax=25))\n",
    "for ax, (title, fmin_fmax) in zip(axes, plot_dict.items()):\n",
    "    power.plot_topomap(**fmin_fmax, axes=ax, **topomap_kw, show_names=False)\n",
    "    ax.set_title(title)"
   ]
  },
  {
   "cell_type": "code",
   "execution_count": 81,
   "metadata": {},
   "outputs": [
    {
     "name": "stdout",
     "output_type": "stream",
     "text": [
      "No baseline correction applied\n",
      "No baseline correction applied\n"
     ]
    }
   ],
   "source": [
    "power.plot_joint();"
   ]
  },
  {
   "cell_type": "markdown",
   "metadata": {},
   "source": [
    "Bonus: [Evoked vs. induced signals](https://www.fil.ion.ucl.ac.uk/~karl/Mechanisms%20of%20evoked%20and%20induced%20responses.pdf)"
   ]
  },
  {
   "cell_type": "code",
   "execution_count": 96,
   "metadata": {},
   "outputs": [
    {
     "name": "stdout",
     "output_type": "stream",
     "text": [
      "Need more than one channel to make topography for eeg. Disabling interactivity.\n"
     ]
    },
    {
     "name": "stderr",
     "output_type": "stream",
     "text": [
      "C:\\Users\\Carina\\AppData\\Local\\Temp\\ipykernel_3100\\2893891377.py:5: RuntimeWarning: tmax is not in time interval. tmax is set to <class 'mne.time_frequency.tfr.AverageTFR'>.tmax (0.497823 s)\n",
      "  power.crop(-0.5,0.5).plot(picks=channel, baseline=(-0.5, 0), mode=\"zscore\")\n"
     ]
    },
    {
     "ename": "IndexError",
     "evalue": "boolean index did not match indexed array along axis 2; size of axis is 401 but size of corresponding boolean axis is 201",
     "output_type": "error",
     "traceback": [
      "\u001b[1;31m---------------------------------------------------------------------------\u001b[0m",
      "\u001b[1;31mIndexError\u001b[0m                                Traceback (most recent call last)",
      "Cell \u001b[1;32mIn[96], line 5\u001b[0m\n\u001b[0;32m      1\u001b[0m \u001b[38;5;66;03m#Bonus:\u001b[39;00m\n\u001b[0;32m      2\u001b[0m \u001b[38;5;66;03m# evoked vs. induced power?\u001b[39;00m\n\u001b[0;32m      4\u001b[0m visual_epochs\u001b[38;5;241m.\u001b[39maverage()\u001b[38;5;241m.\u001b[39mplot(picks\u001b[38;5;241m=\u001b[39mchannel)\n\u001b[1;32m----> 5\u001b[0m \u001b[43mpower\u001b[49m\u001b[38;5;241;43m.\u001b[39;49m\u001b[43mcrop\u001b[49m\u001b[43m(\u001b[49m\u001b[38;5;241;43m-\u001b[39;49m\u001b[38;5;241;43m0.5\u001b[39;49m\u001b[43m,\u001b[49m\u001b[38;5;241;43m0.5\u001b[39;49m\u001b[43m)\u001b[49m\u001b[38;5;241m.\u001b[39mplot(picks\u001b[38;5;241m=\u001b[39mchannel, baseline\u001b[38;5;241m=\u001b[39m(\u001b[38;5;241m-\u001b[39m\u001b[38;5;241m0.5\u001b[39m, \u001b[38;5;241m0\u001b[39m), mode\u001b[38;5;241m=\u001b[39m\u001b[38;5;124m\"\u001b[39m\u001b[38;5;124mzscore\u001b[39m\u001b[38;5;124m\"\u001b[39m)\n\u001b[0;32m      7\u001b[0m visual_epochs\u001b[38;5;241m.\u001b[39msubtract_evoked()\u001b[38;5;241m.\u001b[39maverage()\u001b[38;5;241m.\u001b[39mplot(picks\u001b[38;5;241m=\u001b[39mchannel)\n\u001b[0;32m      9\u001b[0m visual_epochs_induced \u001b[38;5;241m=\u001b[39m visual_epochs\u001b[38;5;241m.\u001b[39mcopy()\u001b[38;5;241m.\u001b[39msubtract_evoked()\n",
      "File \u001b[1;32mc:\\Users\\Carina\\mambaforge\\lib\\site-packages\\mne\\time_frequency\\tfr.py:1746\u001b[0m, in \u001b[0;36mBaseTFR.crop\u001b[1;34m(self, tmin, tmax, fmin, fmax, include_tmax)\u001b[0m\n\u001b[0;32m   1724\u001b[0m \u001b[38;5;129m@fill_doc\u001b[39m\n\u001b[0;32m   1725\u001b[0m \u001b[38;5;28;01mdef\u001b[39;00m \u001b[38;5;21mcrop\u001b[39m(\u001b[38;5;28mself\u001b[39m, tmin\u001b[38;5;241m=\u001b[39m\u001b[38;5;28;01mNone\u001b[39;00m, tmax\u001b[38;5;241m=\u001b[39m\u001b[38;5;28;01mNone\u001b[39;00m, fmin\u001b[38;5;241m=\u001b[39m\u001b[38;5;28;01mNone\u001b[39;00m, fmax\u001b[38;5;241m=\u001b[39m\u001b[38;5;28;01mNone\u001b[39;00m, include_tmax\u001b[38;5;241m=\u001b[39m\u001b[38;5;28;01mTrue\u001b[39;00m):\n\u001b[0;32m   1726\u001b[0m \u001b[38;5;250m    \u001b[39m\u001b[38;5;124;03m\"\"\"Crop data to a given time interval in place.\u001b[39;00m\n\u001b[0;32m   1727\u001b[0m \n\u001b[0;32m   1728\u001b[0m \u001b[38;5;124;03m    Parameters\u001b[39;00m\n\u001b[1;32m   (...)\u001b[0m\n\u001b[0;32m   1744\u001b[0m \u001b[38;5;124;03m        The modified instance.\u001b[39;00m\n\u001b[0;32m   1745\u001b[0m \u001b[38;5;124;03m    \"\"\"\u001b[39;00m\n\u001b[1;32m-> 1746\u001b[0m     \u001b[38;5;28;43msuper\u001b[39;49m\u001b[43m(\u001b[49m\u001b[43m)\u001b[49m\u001b[38;5;241;43m.\u001b[39;49m\u001b[43mcrop\u001b[49m\u001b[43m(\u001b[49m\u001b[43mtmin\u001b[49m\u001b[38;5;241;43m=\u001b[39;49m\u001b[43mtmin\u001b[49m\u001b[43m,\u001b[49m\u001b[43m \u001b[49m\u001b[43mtmax\u001b[49m\u001b[38;5;241;43m=\u001b[39;49m\u001b[43mtmax\u001b[49m\u001b[43m,\u001b[49m\u001b[43m \u001b[49m\u001b[43minclude_tmax\u001b[49m\u001b[38;5;241;43m=\u001b[39;49m\u001b[43minclude_tmax\u001b[49m\u001b[43m)\u001b[49m\n\u001b[0;32m   1748\u001b[0m     \u001b[38;5;28;01mif\u001b[39;00m fmin \u001b[38;5;129;01mis\u001b[39;00m \u001b[38;5;129;01mnot\u001b[39;00m \u001b[38;5;28;01mNone\u001b[39;00m \u001b[38;5;129;01mor\u001b[39;00m fmax \u001b[38;5;129;01mis\u001b[39;00m \u001b[38;5;129;01mnot\u001b[39;00m \u001b[38;5;28;01mNone\u001b[39;00m:\n\u001b[0;32m   1749\u001b[0m         freq_mask \u001b[38;5;241m=\u001b[39m _freq_mask(\n\u001b[0;32m   1750\u001b[0m             \u001b[38;5;28mself\u001b[39m\u001b[38;5;241m.\u001b[39mfreqs, sfreq\u001b[38;5;241m=\u001b[39m\u001b[38;5;28mself\u001b[39m\u001b[38;5;241m.\u001b[39minfo[\u001b[38;5;124m\"\u001b[39m\u001b[38;5;124msfreq\u001b[39m\u001b[38;5;124m\"\u001b[39m], fmin\u001b[38;5;241m=\u001b[39mfmin, fmax\u001b[38;5;241m=\u001b[39mfmax\n\u001b[0;32m   1751\u001b[0m         )\n",
      "File \u001b[1;32m<decorator-gen-96>:12\u001b[0m, in \u001b[0;36mcrop\u001b[1;34m(self, tmin, tmax, include_tmax, verbose)\u001b[0m\n",
      "File \u001b[1;32mc:\\Users\\Carina\\mambaforge\\lib\\site-packages\\mne\\utils\\mixin.py:642\u001b[0m, in \u001b[0;36mExtendedTimeMixin.crop\u001b[1;34m(self, tmin, tmax, include_tmax, verbose)\u001b[0m\n\u001b[0;32m    640\u001b[0m \u001b[38;5;28mself\u001b[39m\u001b[38;5;241m.\u001b[39m_raw_times \u001b[38;5;241m=\u001b[39m \u001b[38;5;28mself\u001b[39m\u001b[38;5;241m.\u001b[39m_raw_times[mask]\n\u001b[0;32m    641\u001b[0m \u001b[38;5;28mself\u001b[39m\u001b[38;5;241m.\u001b[39m_update_first_last()\n\u001b[1;32m--> 642\u001b[0m \u001b[38;5;28mself\u001b[39m\u001b[38;5;241m.\u001b[39m_data \u001b[38;5;241m=\u001b[39m \u001b[38;5;28;43mself\u001b[39;49m\u001b[38;5;241;43m.\u001b[39;49m\u001b[43m_data\u001b[49m\u001b[43m[\u001b[49m\u001b[38;5;241;43m.\u001b[39;49m\u001b[38;5;241;43m.\u001b[39;49m\u001b[38;5;241;43m.\u001b[39;49m\u001b[43m,\u001b[49m\u001b[43m \u001b[49m\u001b[43mmask\u001b[49m\u001b[43m]\u001b[49m\n\u001b[0;32m    644\u001b[0m \u001b[38;5;28;01mreturn\u001b[39;00m \u001b[38;5;28mself\u001b[39m\n",
      "\u001b[1;31mIndexError\u001b[0m: boolean index did not match indexed array along axis 2; size of axis is 401 but size of corresponding boolean axis is 201"
     ]
    }
   ],
   "source": [
    "visual_epochs.average().plot(picks=channel)\n",
    "power.crop(-0.5,0.5).plot(picks=channel, baseline=(-0.5, 0), mode=\"zscore\")\n",
    "\n",
    "visual_epochs.subtract_evoked().average().plot(picks=channel)\n",
    "\n",
    "visual_epochs_induced = visual_epochs.copy().subtract_evoked()\n",
    "\n",
    "freqs = np.logspace(*np.log10([6, 35]), num=16) # frequency resolution\n",
    "n_cycles = freqs / 4.0  # different number of cycle per frequency\n",
    "\n",
    "power_induced, _ = visual_epochs_induced.compute_tfr(\n",
    "    method=\"morlet\",\n",
    "    freqs=freqs,\n",
    "    n_cycles=n_cycles,\n",
    "    average=True,\n",
    "    return_itc=True,\n",
    "    decim=3,\n",
    ")\n"
   ]
  },
  {
   "cell_type": "code",
   "execution_count": 93,
   "metadata": {},
   "outputs": [
    {
     "ename": "ValueError",
     "evalue": "operands could not be broadcast together with shapes (59,16,401) (59,16,201) ",
     "output_type": "error",
     "traceback": [
      "\u001b[1;31m---------------------------------------------------------------------------\u001b[0m",
      "\u001b[1;31mValueError\u001b[0m                                Traceback (most recent call last)",
      "Cell \u001b[1;32mIn[93], line 1\u001b[0m\n\u001b[1;32m----> 1\u001b[0m power_induced\u001b[38;5;241m.\u001b[39mdata \u001b[38;5;241m=\u001b[39m \u001b[43mpower_evoked\u001b[49m\u001b[38;5;241;43m.\u001b[39;49m\u001b[43mdata\u001b[49m\u001b[43m \u001b[49m\u001b[38;5;241;43m-\u001b[39;49m\u001b[43m \u001b[49m\u001b[43mpower_induced\u001b[49m\u001b[38;5;241;43m.\u001b[39;49m\u001b[43mdata\u001b[49m\n\u001b[0;32m      3\u001b[0m power_induced\u001b[38;5;241m.\u001b[39mcrop(\u001b[38;5;241m-\u001b[39m\u001b[38;5;241m0.5\u001b[39m,\u001b[38;5;241m0.5\u001b[39m)\u001b[38;5;241m.\u001b[39mplot(picks\u001b[38;5;241m=\u001b[39mchannel, baseline\u001b[38;5;241m=\u001b[39m(\u001b[38;5;241m-\u001b[39m\u001b[38;5;241m0.5\u001b[39m, \u001b[38;5;241m0\u001b[39m), mode\u001b[38;5;241m=\u001b[39m\u001b[38;5;124m\"\u001b[39m\u001b[38;5;124mzscore\u001b[39m\u001b[38;5;124m\"\u001b[39m)\n\u001b[0;32m      4\u001b[0m power\u001b[38;5;241m.\u001b[39mcrop(\u001b[38;5;241m-\u001b[39m\u001b[38;5;241m0.5\u001b[39m,\u001b[38;5;241m0.5\u001b[39m)\u001b[38;5;241m.\u001b[39mplot(picks\u001b[38;5;241m=\u001b[39mchannel, baseline\u001b[38;5;241m=\u001b[39m(\u001b[38;5;241m-\u001b[39m\u001b[38;5;241m0.5\u001b[39m, \u001b[38;5;241m0\u001b[39m), mode\u001b[38;5;241m=\u001b[39m\u001b[38;5;124m\"\u001b[39m\u001b[38;5;124mzscore\u001b[39m\u001b[38;5;124m\"\u001b[39m)\n",
      "\u001b[1;31mValueError\u001b[0m: operands could not be broadcast together with shapes (59,16,401) (59,16,201) "
     ]
    }
   ],
   "source": [
    "# Is the power evoked or induced?\n",
    "\n",
    "power_induced.crop(-0.5,0.5).plot(picks=channel, baseline=(-0.5, 0), mode=\"zscore\")\n",
    "power.crop(-0.5,0.5).plot(picks=channel, baseline=(-0.5, 0), mode=\"zscore\")"
   ]
  },
  {
   "cell_type": "markdown",
   "metadata": {},
   "source": [
    "<div class=\"alert alert-block alert-warning\">\n",
    "<b>Discussion:</b> \n",
    "\n",
    "When do you choose PSD over TFR?\n",
    "\n",
    "</div>"
   ]
  },
  {
   "cell_type": "markdown",
   "metadata": {},
   "source": [
    "\n",
    "<div class=\"alert alert-block alert-info\">\n",
    "<b>Bonus:</b> \n",
    "\n",
    "Wavelets excurs:\n",
    "\n",
    "In the context of Morlet wavelets, the relationship between the number of cycles and temporal precision is an important aspect of time-frequency analysis. Here’s a detailed explanation:\n",
    "\n",
    "Morlet Wavelets\n",
    "A Morlet wavelet is a complex sinusoid modulated by a Gaussian window. It is widely used in time-frequency analysis because it provides a good balance between time and frequency resolution.\n",
    "\n",
    "Key Concepts\n",
    "Number of Cycles: This refers to how many oscillations of the sinusoidal part of the wavelet fit within the Gaussian window.\n",
    "Temporal Precision: This is how precisely the wavelet can localize events in time.\n",
    "Frequency Precision: This is how precisely the wavelet can localize events in frequency.\n",
    "Relationship Between Cycles and Precision\n",
    "Low Number of Cycles:\n",
    "High Temporal Precision: The wavelet is shorter in duration, allowing it to better localize transient events in time.\n",
    "Low Frequency Precision: The wavelet has a broader frequency response, meaning it is less precise in distinguishing between different frequencies.\n",
    "High Number of Cycles:\n",
    "Low Temporal Precision: The wavelet is longer in duration, which means it cannot localize transient events in time as well.\n",
    "High Frequency Precision: The wavelet has a narrower frequency response, providing better resolution of different frequencies.\n",
    "Trade-Off\n",
    "There is an inherent trade-off between temporal and frequency precision when using Morlet wavelets:\n",
    "\n",
    "Short Wavelets (few cycles): Good for time localization, but poor for frequency localization.\n",
    "Long Wavelets (many cycles): Good for frequency localization, but poor for time localization.\n",
    "Practical Implications\n",
    "In practical applications, the choice of the number of cycles depends on the specific requirements of the analysis:\n",
    "\n",
    "Analyzing Rapid Transients: Use fewer cycles to achieve better temporal resolution.\n",
    "Analyzing Steady-State Oscillations: Use more cycles to achieve better frequency resolution.\n",
    "Example\n",
    "Suppose you are analyzing EEG data to study brain rhythms:\n",
    "\n",
    "If you are interested in detecting short, transient events like spikes, you would use a wavelet with fewer cycles (e.g., 3-5 cycles) to get high temporal precision.\n",
    "If you are interested in the detailed spectral content of ongoing oscillations, you would use a wavelet with more cycles (e.g., 7-10 cycles) to get high frequency precision.\n",
    "\n",
    "</div>"
   ]
  },
  {
   "cell_type": "markdown",
   "metadata": {},
   "source": []
  }
 ],
 "metadata": {
  "kernelspec": {
   "display_name": "expecon_3.9",
   "language": "python",
   "name": "python3"
  },
  "language_info": {
   "codemirror_mode": {
    "name": "ipython",
    "version": 3
   },
   "file_extension": ".py",
   "mimetype": "text/x-python",
   "name": "python",
   "nbconvert_exporter": "python",
   "pygments_lexer": "ipython3",
   "version": "3.10.12"
  }
 },
 "nbformat": 4,
 "nbformat_minor": 2
}
