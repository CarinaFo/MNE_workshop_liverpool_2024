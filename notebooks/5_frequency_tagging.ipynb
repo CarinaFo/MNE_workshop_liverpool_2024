{
  "cells": [
    {
      "cell_type": "markdown",
      "metadata": {},
      "source": [
        "\n",
        "\n",
        "# Frequency-tagging: Basic analysis of an SSVEP/vSSR dataset\n",
        "\n",
        "In this tutorial we compute the frequency spectrum and quantify signal-to-noise\n",
        "ratio (SNR) at a target frequency in EEG data recorded during fast periodic\n",
        "visual stimulation (FPVS) at 12 Hz and 15 Hz in different trials.\n",
        "Extracting SNR at stimulation frequency is a simple way to quantify frequency\n",
        "tagged responses in MEEG (a.k.a. steady state visually evoked potentials,\n",
        "SSVEP, or visual steady-state responses, vSSR in the visual domain,\n",
        "or auditory steady-state responses, ASSR in the auditory domain).\n",
        "\n",
        "For a general introduction to the method see\n",
        "[Norcia et al. (2015)](https://doi.org/10.1167/15.6.4) for the visual domain,\n",
        "and [Picton et al. (2003)](https://doi.org/10.3109/14992020309101316) for\n",
        "the auditory domain.\n",
        "\n",
        "**Data and outline:**\n",
        "\n",
        "We use a simple example dataset with frequency tagged visual stimulation:\n",
        "N=2 participants observed checkerboard patterns inverting with a constant\n",
        "frequency of either 12.0 Hz of 15.0 Hz.\n",
        "32 channels wet EEG was recorded.\n",
        "(see `ssvep-dataset` for more information).\n",
        "\n",
        "We will visualize both the power-spectral density (PSD) and the SNR\n",
        "spectrum of the epoched data,\n",
        "extract SNR at stimulation frequency,\n",
        "plot the topography of the response,\n",
        "and statistically separate 12 Hz and 15 Hz responses in the different trials.\n",
        "Since the evoked response is mainly generated in early visual areas of the\n",
        "brain the statistical analysis will be carried out on an occipital\n",
        "ROI.\n"
      ]
    },
    {
      "cell_type": "code",
      "execution_count": 3,
      "metadata": {
        "collapsed": false
      },
      "outputs": [],
      "source": [
        "# Authors: Dominik Welke <dominik.welke@web.de>\n",
        "#          Evgenii Kalenkovich <e.kalenkovich@gmail.com>\n",
        "\n",
        "# Adapted for Liverpool workshop by Carina Forster\n",
        "# Date: 2024-06-27\n",
        "\n",
        "# License: BSD-3-Clause\n",
        "# Copyright the MNE-Python contributors."
      ]
    },
    {
      "cell_type": "code",
      "execution_count": 13,
      "metadata": {
        "collapsed": false
      },
      "outputs": [],
      "source": [
        "import matplotlib.pyplot as plt\n",
        "import mne\n",
        "import scipy"
      ]
    },
    {
      "cell_type": "markdown",
      "metadata": {},
      "source": [
        "## Data preprocessing\n",
        "Due to a generally high SNR in SSVEP/vSSR, typical preprocessing steps\n",
        "are considered optional. This doesn't mean, that a proper cleaning would not\n",
        "increase your signal quality!\n",
        "\n",
        "* Raw data have FCz reference, so we will apply common-average rereferencing.\n",
        "\n",
        "* We  will apply a 0.1 highpass filter.\n",
        "\n",
        "* Lastly, we will cut the data in 20 s epochs corresponding to the trials.\n",
        "\n",
        "\n",
        "\n"
      ]
    },
    {
      "cell_type": "code",
      "execution_count": 8,
      "metadata": {
        "collapsed": false
      },
      "outputs": [
        {
          "data": {
            "text/html": [
              "<details open>\n",
              "    <summary><strong>General</strong></summary>\n",
              "    <table class=\"table table-hover table-striped table-sm table-responsive small\">\n",
              "        <tr>\n",
              "            <th>Measurement date</th>\n",
              "            \n",
              "            <td>September 27, 2018  14:48:36 GMT</td>\n",
              "            \n",
              "        </tr>\n",
              "        <tr>\n",
              "            <th>Experimenter</th>\n",
              "            \n",
              "            <td>Unknown</td>\n",
              "            \n",
              "        </tr>\n",
              "        <tr>\n",
              "            <th>Participant</th>\n",
              "            \n",
              "            <td>Unknown</td>\n",
              "            \n",
              "        </tr>\n",
              "    </table>\n",
              "    </details>\n",
              "    <details open>\n",
              "        <summary><strong>Channels</strong></summary>\n",
              "        <table class=\"table table-hover table-striped table-sm table-responsive small\">\n",
              "            <tr>\n",
              "                <th>Digitized points</th>\n",
              "                \n",
              "                <td>35 points</td>\n",
              "                \n",
              "            </tr>\n",
              "            <tr>\n",
              "                <th>Good channels</th>\n",
              "                <td>32 EEG</td>\n",
              "            </tr>\n",
              "            <tr>\n",
              "                <th>Bad channels</th>\n",
              "                <td>None</td>\n",
              "            </tr>\n",
              "            <tr>\n",
              "                <th>EOG channels</th>\n",
              "                <td>Not available</td>\n",
              "            </tr>\n",
              "            <tr>\n",
              "                <th>ECG channels</th>\n",
              "                <td>Not available</td>\n",
              "            </tr>\n",
              "        </table>\n",
              "        </details>\n",
              "        <details open>\n",
              "            <summary><strong>Data</strong></summary>\n",
              "            <table class=\"table table-hover table-striped table-sm table-responsive small\">\n",
              "                \n",
              "                <tr>\n",
              "                    <th>Sampling frequency</th>\n",
              "                    <td>1000.00 Hz</td>\n",
              "                </tr>\n",
              "                \n",
              "                \n",
              "                <tr>\n",
              "                    <th>Highpass</th>\n",
              "                    <td>0.02 Hz</td>\n",
              "                </tr>\n",
              "                \n",
              "                \n",
              "                <tr>\n",
              "                    <th>Lowpass</th>\n",
              "                    <td>1000.00 Hz</td>\n",
              "                </tr>\n",
              "                \n",
              "                \n",
              "                \n",
              "                <tr>\n",
              "                    <th>Filenames</th>\n",
              "                    <td>sub-02_ses-01_task-ssvep_eeg.eeg</td>\n",
              "                </tr>\n",
              "                \n",
              "                \n",
              "                <tr>\n",
              "                    <th>Duration</th>\n",
              "                    <td>00:07:48 (HH:MM:SS)</td>\n",
              "                </tr>\n",
              "                \n",
              "            </table>\n",
              "            </details>"
            ],
            "text/plain": [
              "<RawBrainVision | sub-02_ses-01_task-ssvep_eeg.eeg, 32 x 467580 (467.6 s), ~114.2 MB, data loaded>"
            ]
          },
          "execution_count": 8,
          "metadata": {},
          "output_type": "execute_result"
        }
      ],
      "source": [
        "# Load raw data\n",
        "data_path = mne.datasets.ssvep.data_path()\n",
        "bids_fname = (\n",
        "    data_path / \"sub-02\" / \"ses-01\" / \"eeg\" / \"sub-02_ses-01_task-ssvep_eeg.vhdr\"\n",
        ")\n",
        "\n",
        "raw = mne.io.read_raw_brainvision(bids_fname, preload=True, verbose=False)\n",
        "\n",
        "# Set montage\n",
        "montage = mne.channels.make_standard_montage(\"easycap-M1\")\n",
        "raw.set_montage(montage, verbose=False)\n",
        "\n",
        "# find events for 12 and 15 Hz stimulation\n",
        "# Construct epochs\n",
        "raw.annotations.rename({\"Stimulus/S255\": \"12hz\", \"Stimulus/S155\": \"15hz\"})"
      ]
    },
    {
      "cell_type": "markdown",
      "metadata": {},
      "source": [
        "<div class=\"alert alert-block alert-success\">\n",
        "<b>Exercise:</b> set average referece, high-pass filter the data with 0.1 Hz and create epochs betweem -1 and 20 seconds centered around stimulation onset, with no baseline.\n",
        "</div>"
      ]
    },
    {
      "cell_type": "markdown",
      "metadata": {},
      "source": [
        "## Frequency analysis\n",
        "Now we compute the frequency spectrum of the EEG data.\n",
        "You will already see the peaks at the stimulation frequencies and some of\n",
        "their harmonics, without any further processing.\n",
        "\n",
        "The 'classical' PSD plot will be compared to a plot of the SNR spectrum.\n",
        "SNR will be computed as a ratio of the power in a given frequency bin\n",
        "to the average power in its neighboring bins.\n",
        "This procedure has two advantages over using the raw PSD:\n",
        "\n",
        "* it normalizes the spectrum and accounts for 1/f power decay.\n",
        "\n",
        "* power modulations which are not very narrow band will disappear.\n",
        "\n",
        "### Calculate power spectral density (PSD)\n",
        "The frequency spectrum will be computed using Fast Fourier transform (FFT).\n",
        "This seems to be common practice in the steady-state literature and is\n",
        "based on the exact knowledge of the stimulus and the assumed response -\n",
        "especially in terms of it's stability over time.\n",
        "For a discussion see e.g.\n",
        "[Bach & Meigen (1999)](https://doi.org/10.1023/A:1002648202420)\n",
        "\n",
        "We will exclude the first second of each trial from the analysis:\n",
        "\n",
        "* steady-state response often take a while to stabilize, and the\n",
        "  transient phase in the beginning can distort the signal estimate.\n",
        "\n",
        "* this section of data is expected to be dominated by responses related to\n",
        "  the stimulus onset, and we are not interested in this.\n",
        "\n",
        "In MNE we call plain FFT as a special case of Welch's method, with only a\n",
        "single Welch window spanning the entire trial and no specific windowing\n",
        "function (i.e. applying a boxcar window).\n",
        "\n",
        "\n"
      ]
    },
    {
      "cell_type": "code",
      "execution_count": 10,
      "metadata": {
        "collapsed": false
      },
      "outputs": [],
      "source": [
        "tmin = 1.0\n",
        "tmax = 20.0\n",
        "fmin = 1.0\n",
        "fmax = 40\n",
        "sfreq = epochs.info[\"sfreq\"]\n",
        "\n",
        "spectrum = epochs.compute_psd(\n",
        "    \"welch\",\n",
        "    n_fft=int(sfreq * (tmax - tmin)),\n",
        "    n_overlap=0,\n",
        "    n_per_seg=None,\n",
        "    tmin=tmin,\n",
        "    tmax=tmax,\n",
        "    fmin=fmin,\n",
        "    fmax=fmax,\n",
        "    window=\"boxcar\",\n",
        "    verbose=False,\n",
        ")\n",
        "psds_fft, freqs_fft = spectrum.get_data(return_freqs=True)"
      ]
    },
    {
      "cell_type": "markdown",
      "metadata": {},
      "source": [
        "<div class=\"alert alert-block alert-success\">\n",
        "<b>Exercise:</b> Compare the PSDs estimated with Welch method or Multitaper method instead of FFT\n",
        "</div>"
      ]
    },
    {
      "cell_type": "markdown",
      "metadata": {},
      "source": [
        "<div class=\"alert alert-block alert-info\">\n",
        "<b>Bonus:</b> plot the 3 PSDs (Welch, Multitaper und FFT in one plot and compare them (use decibel instead of power). What do you notice?  <br>\n",
        "Plot raw power instead. Hint: plot 3 subplots in one figure.\n",
        "</div>\n"
      ]
    },
    {
      "cell_type": "markdown",
      "metadata": {},
      "source": [
        "<div class=\"alert alert-block alert-warning\">\n",
        "<b>Discussion:</b> Do you see the stimulation peaks? \n",
        "\n",
        "Why is there a peak at 24 and 30 Hz? \n",
        "</div>"
      ]
    },
    {
      "cell_type": "markdown",
      "metadata": {},
      "source": [
        "### Calculate signal to noise ratio (SNR)\n",
        "\n",
        "SNR - as we define it here - is a measure of relative power:\n",
        "it's the ratio of power in a given frequency bin - the 'signal' -\n",
        "to a 'noise' baseline - the average power in the surrounding frequency bins.\n",
        "This approach was initially proposed by\n",
        "[Meigen & Bach (1999)](https://doi.org/10.1023/A:1002097208337)\n",
        "\n",
        "Hence, we need to set some parameters for this baseline - how many\n",
        "neighboring bins should be taken for this computation, and do we want to skip\n",
        "the direct neighbors (this can make sense if the stimulation frequency is not\n",
        "super constant, or frequency bands are very narrow).\n",
        "\n",
        "The function below does what we want.\n",
        "\n",
        "\n"
      ]
    },
    {
      "cell_type": "code",
      "execution_count": 31,
      "metadata": {
        "collapsed": false
      },
      "outputs": [],
      "source": [
        "def snr_spectrum(psd, noise_n_neighbor_freqs=1, noise_skip_neighbor_freqs=1):\n",
        "    \"\"\"Compute SNR spectrum from PSD spectrum using convolution.\n",
        "\n",
        "    Parameters\n",
        "    ----------\n",
        "    psd : ndarray, shape ([n_trials, n_channels,] n_frequency_bins)\n",
        "        Data object containing PSD values. Works with arrays as produced by\n",
        "        MNE's PSD functions or channel/trial subsets.\n",
        "    noise_n_neighbor_freqs : int\n",
        "        Number of neighboring frequencies used to compute noise level.\n",
        "        increment by one to add one frequency bin ON BOTH SIDES\n",
        "    noise_skip_neighbor_freqs : int\n",
        "        set this >=1 if you want to exclude the immediately neighboring\n",
        "        frequency bins in noise level calculation\n",
        "\n",
        "    Returns\n",
        "    -------\n",
        "    snr : ndarray, shape ([n_trials, n_channels,] n_frequency_bins)\n",
        "        Array containing SNR for all epochs, channels, frequency bins.\n",
        "        NaN for frequencies on the edges, that do not have enough neighbors on\n",
        "        one side to calculate SNR.\n",
        "    \"\"\"\n",
        "    # Construct a kernel that calculates the mean of the neighboring\n",
        "    # frequencies\n",
        "    averaging_kernel = np.concatenate(\n",
        "        (\n",
        "            np.ones(noise_n_neighbor_freqs),\n",
        "            np.zeros(2 * noise_skip_neighbor_freqs + 1),\n",
        "            np.ones(noise_n_neighbor_freqs),\n",
        "        )\n",
        "    )\n",
        "    averaging_kernel /= averaging_kernel.sum()\n",
        "\n",
        "    # Calculate the mean of the neighboring frequencies by convolving with the\n",
        "    # averaging kernel.\n",
        "    mean_noise = np.apply_along_axis(\n",
        "        lambda psd_: np.convolve(psd_, averaging_kernel, mode=\"valid\"), axis=-1, arr=psd\n",
        "    )\n",
        "\n",
        "    # The mean is not defined on the edges so we will pad it with nas. The\n",
        "    # padding needs to be done for the last dimension only so we set it to\n",
        "    # (0, 0) for the other ones.\n",
        "    edge_width = noise_n_neighbor_freqs + noise_skip_neighbor_freqs\n",
        "    pad_width = [(0, 0)] * (mean_noise.ndim - 1) + [(edge_width, edge_width)]\n",
        "    mean_noise = np.pad(mean_noise, pad_width=pad_width, constant_values=np.nan)\n",
        "\n",
        "    return psd / mean_noise"
      ]
    },
    {
      "cell_type": "markdown",
      "metadata": {},
      "source": [
        "Now we call the function to compute our SNR spectrum.\n",
        "\n",
        "As described above, we have to define two parameters.\n",
        "\n",
        "* how many noise bins do we want?\n",
        "\n",
        "* do we want to skip the n bins directly next to the target bin?\n",
        "\n",
        "\n",
        "Tweaking these parameters *can* drastically impact the resulting spectrum,\n",
        "but mainly if you choose extremes.\n",
        "E.g. if you'd skip very many neighboring bins, broad band power modulations\n",
        "(such as the alpha peak) should reappear in the SNR spectrum.\n",
        "On the other hand, if you skip none you might miss or smear peaks if the\n",
        "induced power is distributed over two or more frequency bins (e.g. if the\n",
        "stimulation frequency isn't perfectly constant, or you have very narrow\n",
        "bins).\n",
        "\n",
        "Here, we want to compare power at each bin with average power of the\n",
        "**three neighboring bins** (on each side) and **skip one bin** directly next\n",
        "to it.\n",
        "\n",
        "\n"
      ]
    },
    {
      "cell_type": "code",
      "execution_count": 32,
      "metadata": {
        "collapsed": false
      },
      "outputs": [],
      "source": [
        "snrs = snr_spectrum(psds_fft, noise_n_neighbor_freqs=3, noise_skip_neighbor_freqs=1)"
      ]
    },
    {
      "cell_type": "markdown",
      "metadata": {},
      "source": [
        "### Plot PSD and SNR spectra\n",
        "Now we will plot grand average PSD (in blue) and SNR (in red) ± sd\n",
        "for every frequency bin.\n",
        "PSD is plotted on a log scale.\n",
        "\n",
        "\n"
      ]
    },
    {
      "cell_type": "code",
      "execution_count": 33,
      "metadata": {
        "collapsed": false
      },
      "outputs": [
        {
          "name": "stderr",
          "output_type": "stream",
          "text": [
            "C:\\Users\\Carina\\AppData\\Local\\Temp\\ipykernel_38540\\1298182157.py:30: UserWarning: FigureCanvasAgg is non-interactive, and thus cannot be shown\n",
            "  fig.show()\n"
          ]
        },
        {
          "data": {
            "image/png": "[encoded data removed]",
            "text/plain": [
              "<Figure size 800x500 with 2 Axes>"
            ]
          },
          "metadata": {},
          "output_type": "display_data"
        }
      ],
      "source": [
        "fig, axes = plt.subplots(2, 1, sharex=\"all\", sharey=\"none\", figsize=(8, 5))\n",
        "freq_range = range(\n",
        "    np.where(np.floor(freqs_fft) == 1.0)[0][0], np.where(np.ceil(freqs_fft) == fmax - 1)[0][0]\n",
        ")\n",
        "\n",
        "psds_plot = 10 * np.log10(psds_fft) # decibel conversion\n",
        "psds_mean = psds_plot.mean(axis=(0, 1))[freq_range]\n",
        "psds_std = psds_plot.std(axis=(0, 1))[freq_range]\n",
        "axes[0].plot(freqs_fft[freq_range], psds_mean, color=\"b\")\n",
        "axes[0].fill_between(\n",
        "    freqs[freq_range], psds_mean - psds_std, psds_mean + psds_std, color=\"b\", alpha=0.2\n",
        ")\n",
        "axes[0].set(title=\"PSD spectrum\", ylabel=\"Power Spectral Density [dB]\")\n",
        "\n",
        "# SNR spectrum\n",
        "snr_mean = snrs.mean(axis=(0, 1))[freq_range]\n",
        "snr_std = snrs.std(axis=(0, 1))[freq_range]\n",
        "\n",
        "axes[1].plot(freqs_fft[freq_range], snr_mean, color=\"r\")\n",
        "axes[1].fill_between(\n",
        "    freqs_fft[freq_range], snr_mean - snr_std, snr_mean + snr_std, color=\"r\", alpha=0.2\n",
        ")\n",
        "axes[1].set(\n",
        "    title=\"SNR spectrum\",\n",
        "    xlabel=\"Frequency [Hz]\",\n",
        "    ylabel=\"SNR\",\n",
        "    ylim=[-2, 30],\n",
        "    xlim=[fmin, fmax],\n",
        ")\n",
        "fig.show()"
      ]
    },
    {
      "cell_type": "markdown",
      "metadata": {},
      "source": [
        "<div class=\"alert alert-block alert-success\">\n",
        "<b>Exercise:</b> Where in the code do we see the standard deviation added to the plots?\n",
        "</div>"
      ]
    },
    {
      "cell_type": "markdown",
      "metadata": {},
      "source": [
        "You can see that the peaks at the stimulation frequencies (12 Hz, 15 Hz)\n",
        "and their harmonics are visible in both plots.\n",
        "Yet, the SNR spectrum shows them more prominently as peaks from a\n",
        "noisy but more or less constant baseline of SNR = 1.\n",
        "You can further see that the SNR processing removes any broad-band power\n",
        "differences (such as the increased power in alpha band around 10 Hz),\n",
        "and also removes the 1/f decay in the PSD.\n",
        "\n",
        "Note, that while the SNR plot implies the possibility of values below 0\n",
        "(mean minus sd) such values do not make sense.\n",
        "Each SNR value is a ratio of positive PSD values, and the lowest possible PSD\n",
        "value is 0 (negative Y-axis values in the upper panel only result from\n",
        "plotting PSD on a log scale).\n",
        "Hence SNR values must be positive and can minimally go towards 0.\n",
        "\n",
        "## Extract SNR values at the stimulation frequency\n",
        "\n",
        "Our processing yielded a large array of many SNR values for each trial ×\n",
        "channel × frequency-bin of the PSD array.\n",
        "\n",
        "For statistical analysis we obviously need to define specific subsets of this\n",
        "array. First of all, we are only interested in SNR at the stimulation\n",
        "frequency, but we also want to restrict the analysis to a spatial ROI.\n",
        "Lastly, answering your interesting research questions will probably rely on\n",
        "comparing SNR in different trials.\n",
        "\n",
        "Therefore we will have to find the indices of trials, channels, etc.\n",
        "Alternatively, one could subselect the trials already at the epoching step,\n",
        "using MNE's event information, and process different epoch structures\n",
        "separately.\n",
        "\n",
        "Let's only have a look at the trials with 12 Hz stimulation, for now.\n",
        "\n",
        "\n"
      ]
    },
    {
      "cell_type": "code",
      "execution_count": 38,
      "metadata": {
        "collapsed": false
      },
      "outputs": [],
      "source": [
        "# define stimulation frequency\n",
        "stim_freq = 12.0"
      ]
    },
    {
      "cell_type": "markdown",
      "metadata": {},
      "source": [
        "### Get index for the stimulation frequency (12 Hz)\n",
        "Ideally, there would be a bin with the stimulation frequency exactly in its\n",
        "center. However, depending on your Spectral decomposition this is not\n",
        "always the case. We will find the bin closest to it - this one should contain\n",
        "our frequency tagged response.\n",
        "\n",
        "\n"
      ]
    },
    {
      "cell_type": "code",
      "execution_count": 39,
      "metadata": {
        "collapsed": false
      },
      "outputs": [],
      "source": [
        "# find index of frequency bin closest to stimulation frequency\n",
        "i_bin_12hz = np.argmin(abs(freqs_fft - stim_freq))\n",
        "# could be updated to support multiple frequencies\n",
        "\n",
        "# for later, we will already find the 15 Hz bin and the 1st and 2nd harmonic\n",
        "# for both.\n",
        "i_bin_24hz = np.argmin(abs(freqs_fft - 24))\n",
        "i_bin_36hz = np.argmin(abs(freqs_fft - 36))\n",
        "i_bin_15hz = np.argmin(abs(freqs_fft - 15))\n",
        "i_bin_30hz = np.argmin(abs(freqs_fft - 30))\n",
        "i_bin_45hz = np.argmin(abs(freqs_fft - 45))"
      ]
    },
    {
      "cell_type": "markdown",
      "metadata": {},
      "source": [
        "### Get indices for the different trial types\n",
        "\n"
      ]
    },
    {
      "cell_type": "markdown",
      "metadata": {},
      "source": [
        "<div class=\"alert alert-block alert-success\">\n",
        "<b>Exercise:</b> Can you get the indices for the epochs that contain a 12 or 15 Hz stimulation?\n",
        "Store them in i_trial_12hz and i_trial_15Hz.\n",
        "</div>"
      ]
    },
    {
      "cell_type": "markdown",
      "metadata": {},
      "source": [
        "### Get indices of EEG channels forming the ROI\n",
        "\n"
      ]
    },
    {
      "cell_type": "code",
      "execution_count": 42,
      "metadata": {
        "collapsed": false
      },
      "outputs": [],
      "source": [
        "# Define different ROIs\n",
        "roi_vis = [\n",
        "    \"POz\",\n",
        "    \"Oz\",\n",
        "    \"O1\",\n",
        "    \"O2\",\n",
        "    \"PO3\",\n",
        "    \"PO4\",\n",
        "    \"PO7\",\n",
        "    \"PO8\",\n",
        "    \"PO9\",\n",
        "    \"PO10\",\n",
        "    \"O9\",\n",
        "    \"O10\",\n",
        "]  # visual roi\n",
        "\n",
        "# Find corresponding indices using mne.pick_types()\n",
        "picks_roi_vis = mne.pick_types(\n",
        "    epochs.info, eeg=True, stim=False, exclude=\"bads\", selection=roi_vis\n",
        ")"
      ]
    },
    {
      "cell_type": "markdown",
      "metadata": {},
      "source": [
        "### Apply the subset, and check the result\n",
        "Now we simply need to apply our selection and yield a result. Therefore, we typically report grand average SNR over the subselection."
      ]
    },
    {
      "cell_type": "code",
      "execution_count": 49,
      "metadata": {
        "collapsed": false
      },
      "outputs": [
        {
          "name": "stdout",
          "output_type": "stream",
          "text": [
            "sub 2, 12 Hz trials, SNR at 12 Hz\n",
            "average SNR (occipital ROI): 41.69365541718619\n"
          ]
        }
      ],
      "source": [
        "snrs_target = snrs[i_trial_12hz, :, i_bin_12hz][:, picks_roi_vis]\n",
        "print(\"sub 2, 12 Hz trials, SNR at 12 Hz\")\n",
        "print(f\"average SNR (occipital ROI): {snrs_target.mean()}\")"
      ]
    },
    {
      "cell_type": "markdown",
      "metadata": {},
      "source": [
        "## Topography of the vSSR\n",
        "But wait...\n",
        "As described in the intro, we have decided *a priori* to work with average\n",
        "SNR over a subset of occipital channels - a visual region of interest (ROI)\n",
        "- because we expect SNR to be higher on these channels than in other\n",
        "channels.\n",
        "\n",
        "Let's check out, whether this was a good decision!\n",
        "\n",
        "Here we will plot average SNR for each channel location as a topoplot.\n",
        "Then we will do a simple paired T-test to check, whether average SNRs over\n",
        "over the visual ROI is higher than over all channels.\n",
        "\n",
        "=> this is bad as we are double dipping here\n",
        "\n",
        "\n"
      ]
    },
    {
      "cell_type": "code",
      "execution_count": 12,
      "metadata": {
        "collapsed": false
      },
      "outputs": [
        {
          "ename": "NameError",
          "evalue": "name 'snrs' is not defined",
          "output_type": "error",
          "traceback": [
            "\u001b[1;31m---------------------------------------------------------------------------\u001b[0m",
            "\u001b[1;31mNameError\u001b[0m                                 Traceback (most recent call last)",
            "Cell \u001b[1;32mIn[12], line 2\u001b[0m\n\u001b[0;32m      1\u001b[0m \u001b[38;5;66;03m# get average SNR at 12 Hz for ALL channels\u001b[39;00m\n\u001b[1;32m----> 2\u001b[0m snrs_12hz \u001b[38;5;241m=\u001b[39m \u001b[43msnrs\u001b[49m[i_trial_12hz, :, i_bin_12hz]\n\u001b[0;32m      3\u001b[0m snrs_12hz_chaverage \u001b[38;5;241m=\u001b[39m snrs_12hz\u001b[38;5;241m.\u001b[39mmean(axis\u001b[38;5;241m=\u001b[39m\u001b[38;5;241m0\u001b[39m)\n\u001b[0;32m      5\u001b[0m \u001b[38;5;66;03m# plot SNR topography\u001b[39;00m\n",
            "\u001b[1;31mNameError\u001b[0m: name 'snrs' is not defined"
          ]
        }
      ],
      "source": [
        "# get average SNR at 12 Hz for ALL channels\n",
        "snrs_12hz = snrs[i_trial_12hz, :, i_bin_12hz]\n",
        "snrs_12hz_chaverage = snrs_12hz.mean(axis=0)\n",
        "\n",
        "# plot SNR topography\n",
        "fig, ax = plt.subplots(1)\n",
        "mne.viz.plot_topomap(snrs_12hz_chaverage, epochs.info, vlim=(1, None), axes=ax)\n",
        "\n",
        "print(\"sub 2, 12 Hz trials, SNR at 12 Hz\")\n",
        "print(f\"average SNR (all channels): {snrs_12hz_chaverage.mean()}\")\n",
        "print(f\"average SNR (occipital ROI): {snrs_target.mean()}\")\n",
        "\n",
        "tstat_roi_vs_scalp = scipy.stats.ttest_rel(snrs_target.mean(axis=1), snrs_12hz.mean(axis=1))\n",
        "print(\n",
        "    \"12 Hz SNR in occipital ROI is significantly larger than 12 Hz SNR over all \"\n",
        "    f\"channels: t = {tstat_roi_vs_scalp[0]:.3f}, p = {tstat_roi_vs_scalp[1]}\"\n",
        ")"
      ]
    },
    {
      "cell_type": "markdown",
      "metadata": {},
      "source": [
        "We can see, that 1) this participant indeed exhibits a cluster of channels\n",
        "with high SNR in the occipital region and 2) that the average SNR over all\n",
        "channels is smaller than the average of the visual ROI computed above.\n",
        "The difference is statistically significant. Great!\n",
        "\n",
        "Such a topography plot can be a nice tool to explore and play with your data\n",
        "- e.g. you could try how changing the reference will affect the spatial\n",
        "distribution of SNR values.\n",
        "\n",
        "However, we also wanted to show this plot to point at a potential\n",
        "problem with frequency-tagged (or any other brain imaging) data:\n",
        "there are many channels and somewhere you will likely find some\n",
        "statistically significant effect.\n",
        "It is very easy - even unintended - to end up double-dipping or p-hacking.\n",
        "So if you want to work with an ROI or individual channels, ideally select\n",
        "them *a priori* - before collecting or looking at the data - and preregister\n",
        "this decision so people will believe you.\n",
        "If you end up selecting an ROI or individual channel for reporting *because\n",
        "this channel or ROI shows an effect*, e.g. in an explorative analysis, this\n",
        "is also fine but make it transparently and correct for multiple comparison.\n",
        "\n",
        "## Statistical separation of 12 Hz and 15 Hz vSSR\n",
        "After this little detour into open science, let's move on and\n",
        "do the analyses we actually wanted to do:\n",
        "\n",
        "We will show that we can easily detect and discriminate the brains responses\n",
        "in the trials with different stimulation frequencies.\n",
        "\n",
        "In the frequency and SNR spectrum plot above, we had all trials mixed up.\n",
        "Now we will extract 12 and 15 Hz SNR in both types of trials individually,\n",
        "and compare the values with a simple t-test.\n",
        "We will also extract SNR of the 1st and 2nd harmonic for both stimulation\n",
        "frequencies. These are often reported as well and can show interesting\n",
        "interactions.\n",
        "\n",
        "\n"
      ]
    },
    {
      "cell_type": "code",
      "execution_count": 51,
      "metadata": {
        "collapsed": false
      },
      "outputs": [
        {
          "name": "stderr",
          "output_type": "stream",
          "text": [
            "C:\\Users\\Carina\\AppData\\Local\\Temp\\ipykernel_38540\\265664940.py:39: UserWarning: FigureCanvasAgg is non-interactive, and thus cannot be shown\n",
            "  fig.show()\n"
          ]
        },
        {
          "data": {
            "image/png": "[encoded data removed]",
            "text/plain": [
              "<Figure size 640x480 with 1 Axes>"
            ]
          },
          "metadata": {},
          "output_type": "display_data"
        }
      ],
      "source": [
        "snrs_roi = snrs[:, picks_roi_vis, :].mean(axis=1)\n",
        "\n",
        "freq_plot = [12, 15, 24, 30, 36, 45]\n",
        "color_plot = [\"darkblue\", \"darkgreen\", \"mediumblue\", \"green\", \"blue\", \"seagreen\"]\n",
        "xpos_plot = [-5.0 / 12, -3.0 / 12, -1.0 / 12, 1.0 / 12, 3.0 / 12, 5.0 / 12]\n",
        "fig, ax = plt.subplots()\n",
        "labels = [\"12 Hz trials\", \"15 Hz trials\"]\n",
        "x = np.arange(len(labels))  # the label locations\n",
        "width = 0.6  # the width of the bars\n",
        "res = dict()\n",
        "\n",
        "# loop to plot SNRs at stimulation frequencies and harmonics\n",
        "for i, f in enumerate(freq_plot):\n",
        "    # extract snrs\n",
        "    stim_12hz_tmp = snrs_roi[i_trial_12hz, np.argmin(abs(freqs_fft - f))]\n",
        "    stim_15hz_tmp = snrs_roi[i_trial_15hz, np.argmin(abs(freqs_fft - f))]\n",
        "    SNR_tmp = [stim_12hz_tmp.mean(), stim_15hz_tmp.mean()]\n",
        "    # plot (with std)\n",
        "    ax.bar(\n",
        "        x + width * xpos_plot[i],\n",
        "        SNR_tmp,\n",
        "        width / len(freq_plot),\n",
        "        yerr=np.std(SNR_tmp),\n",
        "        label=\"%i Hz SNR\" % f,\n",
        "        color=color_plot[i],\n",
        "    )\n",
        "    # store results for statistical comparison\n",
        "    res[\"stim_12hz_snrs_%ihz\" % f] = stim_12hz_tmp\n",
        "    res[\"stim_15hz_snrs_%ihz\" % f] = stim_15hz_tmp\n",
        "\n",
        "# Add some text for labels, title and custom x-axis tick labels, etc.\n",
        "ax.set_ylabel(\"SNR\")\n",
        "ax.set_title(\"Average SNR at target frequencies\")\n",
        "ax.set_xticks(x)\n",
        "ax.set_xticklabels(labels)\n",
        "ax.legend([\"%i Hz\" % f for f in freq_plot], title=\"SNR at:\")\n",
        "ax.set_ylim([0, 70])\n",
        "ax.axhline(1, ls=\"--\", c=\"r\")\n",
        "fig.show()"
      ]
    },
    {
      "cell_type": "markdown",
      "metadata": {},
      "source": [
        "<div class=\"alert alert-block alert-warning\">\n",
        "<b>Discussion:</b> Interpret the plot. What is the main message? Why are we looking at the harmonics?  \n",
        "</div>"
      ]
    },
    {
      "cell_type": "markdown",
      "metadata": {},
      "source": [
        "## Debriefing\n",
        "So that's it, we hope you enjoyed our little tour through this example\n",
        "dataset.\n",
        "\n",
        "As you could see, frequency-tagging is a very powerful tool that can yield\n",
        "very high signal to noise ratios and effect sizes that enable you to detect\n",
        "brain responses even within a single participant and single trials of only\n",
        "a few seconds duration.\n",
        "\n",
        "## Bonus exercises\n",
        "For the overly motivated amongst you, let's see what else we can show with\n",
        "these data.\n",
        "\n",
        "Using the PSD function as implemented in MNE makes it very easy to change\n",
        "the amount of data that is actually used in the spectrum\n",
        "estimation.\n",
        "\n",
        "Here we employ this to show you some features of frequency\n",
        "tagging data that you might or might not have already intuitively expected:\n",
        "\n",
        "### Effect of trial duration on SNR\n",
        "First we will simulate shorter trials by taking only the first x s of our 20s\n",
        "trials (2, 4, 6, 8, ..., 20 s), and compute the SNR using a FFT window\n",
        "that covers the entire epoch:\n",
        "\n",
        "\n"
      ]
    },
    {
      "cell_type": "code",
      "execution_count": 52,
      "metadata": {
        "collapsed": false
      },
      "outputs": [
        {
          "name": "stderr",
          "output_type": "stream",
          "text": [
            "C:\\Users\\Carina\\AppData\\Local\\Temp\\ipykernel_38540\\3670991554.py:47: MatplotlibDeprecationWarning: The 'labels' parameter of boxplot() has been renamed 'tick_labels' since Matplotlib 3.9; support for the old name will be dropped in 3.11.\n",
            "  ax.boxplot(window_snrs, labels=window_lengths, vert=True)\n",
            "C:\\Users\\Carina\\AppData\\Local\\Temp\\ipykernel_38540\\3670991554.py:54: UserWarning: FigureCanvasAgg is non-interactive, and thus cannot be shown\n",
            "  fig.show()\n"
          ]
        },
        {
          "data": {
            "image/png": "[encoded data removed]",
            "text/plain": [
              "<Figure size 640x480 with 1 Axes>"
            ]
          },
          "metadata": {},
          "output_type": "display_data"
        }
      ],
      "source": [
        "stim_bandwidth = 0.5\n",
        "\n",
        "# shorten data and welch window\n",
        "window_lengths = [i for i in range(2, 21, 2)]\n",
        "window_snrs = [[]] * len(window_lengths)\n",
        "for i_win, win in enumerate(window_lengths):\n",
        "    # compute spectrogram\n",
        "    this_spectrum = epochs[\"12hz\"].compute_psd(\n",
        "        \"welch\",\n",
        "        n_fft=int(sfreq * win),\n",
        "        n_overlap=0,\n",
        "        n_per_seg=None,\n",
        "        tmin=0,\n",
        "        tmax=win,\n",
        "        window=\"boxcar\",\n",
        "        fmin=fmin,\n",
        "        fmax=fmax,\n",
        "        verbose=False,\n",
        "    )\n",
        "    windowed_psd, windowed_freqs = this_spectrum.get_data(return_freqs=True)\n",
        "    # define a bandwidth of 1 Hz around stimfreq for SNR computation\n",
        "    bin_width = windowed_freqs[1] - windowed_freqs[0]\n",
        "    skip_neighbor_freqs = (\n",
        "        round((stim_bandwidth / 2) / bin_width - bin_width / 2.0 - 0.5)\n",
        "        if (bin_width < stim_bandwidth)\n",
        "        else 0\n",
        "    )\n",
        "    n_neighbor_freqs = int(\n",
        "        (\n",
        "            sum((windowed_freqs <= 13) & (windowed_freqs >= 11))\n",
        "            - 1\n",
        "            - 2 * skip_neighbor_freqs\n",
        "        )\n",
        "        / 2\n",
        "    )\n",
        "    # compute snr\n",
        "    windowed_snrs = snr_spectrum(\n",
        "        windowed_psd,\n",
        "        noise_n_neighbor_freqs=n_neighbor_freqs if (n_neighbor_freqs > 0) else 1,\n",
        "        noise_skip_neighbor_freqs=skip_neighbor_freqs,\n",
        "    )\n",
        "    window_snrs[i_win] = windowed_snrs[\n",
        "        :, picks_roi_vis, np.argmin(abs(windowed_freqs - 12.0))\n",
        "    ].mean(axis=1)\n",
        "\n",
        "fig, ax = plt.subplots(1)\n",
        "ax.boxplot(window_snrs, tick_labels=window_lengths, vert=True)\n",
        "ax.set(\n",
        "    title=\"Effect of trial duration on 12 Hz SNR\",\n",
        "    ylabel=\"Average SNR\",\n",
        "    xlabel=\"Trial duration [s]\",\n",
        ")\n",
        "ax.axhline(1, ls=\"--\", c=\"r\")\n",
        "fig.show()"
      ]
    }
  ],
  "metadata": {
    "kernelspec": {
      "display_name": "Python 3",
      "language": "python",
      "name": "python3"
    },
    "language_info": {
      "codemirror_mode": {
        "name": "ipython",
        "version": 3
      },
      "file_extension": ".py",
      "mimetype": "text/x-python",
      "name": "python",
      "nbconvert_exporter": "python",
      "pygments_lexer": "ipython3",
      "version": "3.9.18"
    }
  },
  "nbformat": 4,
  "nbformat_minor": 0
}
